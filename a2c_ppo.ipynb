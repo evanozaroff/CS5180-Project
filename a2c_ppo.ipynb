{
 "cells": [
  {
   "cell_type": "code",
   "execution_count": 7,
   "outputs": [],
   "source": [
    "import numpy as np\n",
    "import gym\n",
    "from gym.envs.toy_text.frozen_lake import generate_random_map"
   ],
   "metadata": {
    "collapsed": false
   }
  },
  {
   "cell_type": "code",
   "execution_count": 10,
   "outputs": [
    {
     "data": {
      "text/plain": "array([[b'S', b'F', b'F', b'F', b'F', b'F', b'F', b'H'],\n       [b'H', b'H', b'F', b'F', b'F', b'F', b'F', b'F'],\n       [b'F', b'F', b'F', b'H', b'F', b'F', b'F', b'F'],\n       [b'H', b'F', b'F', b'F', b'F', b'F', b'H', b'F'],\n       [b'H', b'F', b'F', b'F', b'F', b'H', b'F', b'H'],\n       [b'F', b'F', b'F', b'F', b'F', b'F', b'F', b'F'],\n       [b'F', b'F', b'F', b'F', b'F', b'F', b'F', b'H'],\n       [b'F', b'H', b'H', b'F', b'F', b'F', b'F', b'G']], dtype='|S1')"
     },
     "execution_count": 10,
     "metadata": {},
     "output_type": "execute_result"
    }
   ],
   "source": [
    "np.random.seed(1234) # set random seed to reproduce map\n",
    "\n",
    "map_desc = generate_random_map(size=8, p=0.8)\n",
    "use_is_slippery = False\n",
    "\n",
    "env = gym.make('FrozenLake-v1', desc=map_desc, is_slippery=use_is_slippery, render_mode='human')\n",
    "env.desc"
   ],
   "metadata": {
    "collapsed": false
   }
  }
 ],
 "metadata": {
  "kernelspec": {
   "display_name": "Python 3 (ipykernel)",
   "language": "python",
   "name": "python3"
  },
  "language_info": {
   "codemirror_mode": {
    "name": "ipython",
    "version": 3
   },
   "file_extension": ".py",
   "mimetype": "text/x-python",
   "name": "python",
   "nbconvert_exporter": "python",
   "pygments_lexer": "ipython3",
   "version": "3.8.5"
  }
 },
 "nbformat": 4,
 "nbformat_minor": 5
}
